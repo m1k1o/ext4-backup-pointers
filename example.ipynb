{
 "cells": [
  {
   "cell_type": "code",
   "execution_count": null,
   "metadata": {},
   "outputs": [],
   "source": [
    "from src.utils import generate_metadata, recover_file"
   ]
  },
  {
   "cell_type": "markdown",
   "metadata": {},
   "source": [
    "# Create test filesystem\n",
    "\n",
    "1. Create empty file (250MB or choose different size).\n",
    "```sh\n",
    "$ dd if=/dev/zero of=data_fs.img bs=1M count=250\n",
    "```\n",
    "\n",
    "2. Create ext4 filesystem inside this file.\n",
    "```sh\n",
    "$ mkfs.ext4 data_fs.img\n",
    "```\n",
    "\n",
    "3. Attach image file to block device. It shows device it was attached to (e.g. /dev/loop0).\n",
    "```sh\n",
    "$ losetup -fP --show data_fs.img\n",
    "```\n",
    "\n",
    "3. Mount new filesystem:\n",
    "```sh\n",
    "$ mkdir data_fs\n",
    "$ mount /dev/loop0 data_fs\n",
    "```\n",
    "\n",
    "4. When you are finished, reverse all actions using:\n",
    "```sh\n",
    "$ umount data_fs\n",
    "$ rmdir data_fs\n",
    "$ losetup -d /dev/loop0\n",
    "```"
   ]
  },
  {
   "cell_type": "code",
   "execution_count": null,
   "metadata": {},
   "outputs": [],
   "source": [
    "fs = 'data_fs.img'"
   ]
  },
  {
   "cell_type": "markdown",
   "metadata": {},
   "source": [
    "# Generate metadata snapshot\n",
    "\n",
    "Create or copy test files to new filesystem, e.g. photo.\n",
    "```sh\n",
    "$ cp /home/user/test_photo.jpg data_fs/some_image.jpg\n",
    "```\n",
    "\n",
    "And create snapshot."
   ]
  },
  {
   "cell_type": "code",
   "execution_count": null,
   "metadata": {
    "scrolled": false
   },
   "outputs": [],
   "source": [
    "metadata = generate_metadata(fs, 100)"
   ]
  },
  {
   "cell_type": "markdown",
   "metadata": {},
   "source": [
    "# Remove and recover file\n",
    "\n",
    "Now remove file\n",
    "```sh\n",
    "$ rm data_fs/some_image.jpg\n",
    "```\n",
    "\n",
    "And try to recover it from saved snapshot."
   ]
  },
  {
   "cell_type": "code",
   "execution_count": null,
   "metadata": {},
   "outputs": [],
   "source": [
    "recover_file(fs, metadata, '/some_image.jpg', 'recovered.jpg')"
   ]
  },
  {
   "cell_type": "markdown",
   "metadata": {},
   "source": [
    "# Verify\n",
    "\n",
    "Check whether files md5 sums matchtes:\n",
    "```sh\n",
    "$ md5sum recovered.jpg /home/user/test_photo.jpg\n",
    "5ae7c956d3ebc1bce3951c5a72714cf7  recovered.jpg\n",
    "5ae7c956d3ebc1bce3951c5a72714cf7  /home/user/test_photo.jpg\n",
    "```"
   ]
  },
  {
   "cell_type": "code",
   "execution_count": null,
   "metadata": {},
   "outputs": [],
   "source": []
  }
 ],
 "metadata": {
  "kernelspec": {
   "display_name": "Python 3",
   "language": "python",
   "name": "python3"
  },
  "language_info": {
   "codemirror_mode": {
    "name": "ipython",
    "version": 3
   },
   "file_extension": ".py",
   "mimetype": "text/x-python",
   "name": "python",
   "nbconvert_exporter": "python",
   "pygments_lexer": "ipython3",
   "version": "3.7.6"
  }
 },
 "nbformat": 4,
 "nbformat_minor": 4
}
